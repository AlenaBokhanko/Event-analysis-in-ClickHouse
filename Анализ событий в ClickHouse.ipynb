{
 "cells": [
  {
   "cell_type": "markdown",
   "id": "4c9678ba-368d-42e2-ae66-4f8c22f7efa5",
   "metadata": {},
   "source": [
    "# Анализ событий в ClickHouse\n",
    "\n",
    "## Введение\n",
    "\n",
    "Этот проект посвящен анализу событий пользователей в базе данных ClickHouse. В рамках работы была создана таблица events, наполненная случайными данными (1 миллион записей) (скрипт прилагаю в README). Затем выполнен анализ данных с использованием SQL-запросов для извлечения ключевых метрик, включая вовлеченность пользователей, распределение событий, доход от покупок и другие важные показатели."
   ]
  },
  {
   "cell_type": "code",
   "execution_count": 7,
   "id": "da8fe949-d084-4432-9a87-3ff99d6a8910",
   "metadata": {},
   "outputs": [
    {
     "name": "stdout",
     "output_type": "stream",
     "text": [
      "Данные успешно экспортированы в CSV!\n"
     ]
    }
   ],
   "source": [
    "#экспортируем созданную таблицу events в формат csv на локальный компьютер\n",
    "\n",
    "import clickhouse_connect\n",
    "import pandas as pd\n",
    "import matplotlib.pyplot as plt\n",
    "\n",
    "# Подключаемся к ClickHouse\n",
    "if __name__ == '__main__':\n",
    "    client = clickhouse_connect.get_client(\n",
    "        host='o4l3f0lxgn.germanywestcentral.azure.clickhouse.cloud',\n",
    "        user='default',\n",
    "        password='x.5oSy1a.9t7E',\n",
    "        secure=True\n",
    "    )\n",
    "\n",
    "    # Выполняем запрос для получения данных из таблицы\n",
    "    query = \"SELECT * FROM events\"\n",
    "    result = client.query(query).result_set\n",
    "\n",
    "    # Преобразуем результат в pandas DataFrame\n",
    "    df = pd.DataFrame(result, columns=['event_id', 'user_id', 'event_type', 'event_timestamp', 'product_id', 'revenue'])\n",
    "\n",
    "    # Экспортируем DataFrame в CSV на локальный компьютер\n",
    "    df.to_csv('/Users/Alena/Desktop/events.csv', index=False)\n",
    "\n",
    "    print(\"Данные успешно экспортированы в CSV!\")\n"
   ]
  },
  {
   "cell_type": "code",
   "execution_count": 14,
   "id": "11a42ddb-d65d-4138-a55c-813f290741d3",
   "metadata": {},
   "outputs": [
    {
     "data": {
      "text/html": [
       "<div>\n",
       "<style scoped>\n",
       "    .dataframe tbody tr th:only-of-type {\n",
       "        vertical-align: middle;\n",
       "    }\n",
       "\n",
       "    .dataframe tbody tr th {\n",
       "        vertical-align: top;\n",
       "    }\n",
       "\n",
       "    .dataframe thead th {\n",
       "        text-align: right;\n",
       "    }\n",
       "</style>\n",
       "<table border=\"1\" class=\"dataframe\">\n",
       "  <thead>\n",
       "    <tr style=\"text-align: right;\">\n",
       "      <th></th>\n",
       "      <th>event_id</th>\n",
       "      <th>user_id</th>\n",
       "      <th>event_type</th>\n",
       "      <th>event_timestamp</th>\n",
       "      <th>product_id</th>\n",
       "      <th>revenue</th>\n",
       "    </tr>\n",
       "  </thead>\n",
       "  <tbody>\n",
       "    <tr>\n",
       "      <th>0</th>\n",
       "      <td>0e389dcb-c6f4-4869-9576-0ff68a37f263</td>\n",
       "      <td>58ce0e3e-e1bc-4f3b-8984-8476ecca97bb</td>\n",
       "      <td>view</td>\n",
       "      <td>2024-09-27 13:44:38</td>\n",
       "      <td>ad656f90-7c58-464a-82a4-f13bfe50c476</td>\n",
       "      <td>0.0</td>\n",
       "    </tr>\n",
       "    <tr>\n",
       "      <th>1</th>\n",
       "      <td>bd1c8532-3268-429d-9c6d-a0d6fa404638</td>\n",
       "      <td>77409fef-0e58-461f-9b3b-bf7039dbcbd5</td>\n",
       "      <td>purchase</td>\n",
       "      <td>2024-09-27 13:44:41</td>\n",
       "      <td>9e5862b4-ad98-496a-988d-415366985e9d</td>\n",
       "      <td>220.0</td>\n",
       "    </tr>\n",
       "    <tr>\n",
       "      <th>2</th>\n",
       "      <td>266e06b8-1803-495b-b71c-fee1771ef844</td>\n",
       "      <td>16d4fb74-1dd1-490c-a672-9f227cb42d84</td>\n",
       "      <td>view</td>\n",
       "      <td>2024-09-27 13:44:42</td>\n",
       "      <td>9d99c947-5375-4d21-9002-6d1da74fd92e</td>\n",
       "      <td>0.0</td>\n",
       "    </tr>\n",
       "    <tr>\n",
       "      <th>3</th>\n",
       "      <td>71ab85bc-0576-491f-a584-8d2aedde3ad5</td>\n",
       "      <td>203745ff-d27e-41a4-ac82-a42595a4bce1</td>\n",
       "      <td>click</td>\n",
       "      <td>2024-09-27 13:44:43</td>\n",
       "      <td>685c9dd9-83b7-4443-8adb-142e954eb9a5</td>\n",
       "      <td>0.0</td>\n",
       "    </tr>\n",
       "    <tr>\n",
       "      <th>4</th>\n",
       "      <td>d5cf24a1-5c48-4bd9-ae66-1179a160b886</td>\n",
       "      <td>cd6ee66e-f40c-4eba-9197-688a597d62a7</td>\n",
       "      <td>click</td>\n",
       "      <td>2024-09-27 13:44:51</td>\n",
       "      <td>3b0df028-5e62-4d77-bb53-e742f0262088</td>\n",
       "      <td>0.0</td>\n",
       "    </tr>\n",
       "    <tr>\n",
       "      <th>...</th>\n",
       "      <td>...</td>\n",
       "      <td>...</td>\n",
       "      <td>...</td>\n",
       "      <td>...</td>\n",
       "      <td>...</td>\n",
       "      <td>...</td>\n",
       "    </tr>\n",
       "    <tr>\n",
       "      <th>999995</th>\n",
       "      <td>2779d3a6-829f-47b0-b3bb-4e7c752b378d</td>\n",
       "      <td>75ebccfb-7ec7-4e2c-9daa-8d11b2ef821f</td>\n",
       "      <td>purchase</td>\n",
       "      <td>2025-01-25 13:43:53</td>\n",
       "      <td>a7ddbace-5c7c-4d6c-bbc2-e3b5a4234fd6</td>\n",
       "      <td>675.0</td>\n",
       "    </tr>\n",
       "    <tr>\n",
       "      <th>999996</th>\n",
       "      <td>1349fd03-3caf-47ca-b9a7-af249efd3b11</td>\n",
       "      <td>aeb8dbcb-8dbe-4c92-af6d-cbc99154e5d1</td>\n",
       "      <td>addToCart</td>\n",
       "      <td>2025-01-25 13:44:00</td>\n",
       "      <td>ac38643f-042a-4f90-a34e-709305067077</td>\n",
       "      <td>0.0</td>\n",
       "    </tr>\n",
       "    <tr>\n",
       "      <th>999997</th>\n",
       "      <td>5d7f090d-fe52-4e3a-8344-147b15777256</td>\n",
       "      <td>3360fdab-b88c-4d03-8c9c-af4965960514</td>\n",
       "      <td>click</td>\n",
       "      <td>2025-01-25 13:44:07</td>\n",
       "      <td>4b15d508-fa59-4f20-9371-43b81547a6dc</td>\n",
       "      <td>0.0</td>\n",
       "    </tr>\n",
       "    <tr>\n",
       "      <th>999998</th>\n",
       "      <td>f680895c-e017-4361-8f71-7702a6596daf</td>\n",
       "      <td>c426e6a7-2995-4922-8a91-62487f40b98e</td>\n",
       "      <td>click</td>\n",
       "      <td>2025-01-25 13:44:15</td>\n",
       "      <td>4c24ca2c-0876-45da-ab68-c679d9806178</td>\n",
       "      <td>0.0</td>\n",
       "    </tr>\n",
       "    <tr>\n",
       "      <th>999999</th>\n",
       "      <td>e6765058-e6a0-4045-9860-02ceca0524b6</td>\n",
       "      <td>a4ab4690-5ea9-44d9-9e98-eb124b2bf956</td>\n",
       "      <td>addToCart</td>\n",
       "      <td>2025-01-25 13:44:28</td>\n",
       "      <td>06dc08c0-a7a0-494b-bb04-c99033cc5b26</td>\n",
       "      <td>0.0</td>\n",
       "    </tr>\n",
       "  </tbody>\n",
       "</table>\n",
       "<p>1000000 rows × 6 columns</p>\n",
       "</div>"
      ],
      "text/plain": [
       "                                    event_id  \\\n",
       "0       0e389dcb-c6f4-4869-9576-0ff68a37f263   \n",
       "1       bd1c8532-3268-429d-9c6d-a0d6fa404638   \n",
       "2       266e06b8-1803-495b-b71c-fee1771ef844   \n",
       "3       71ab85bc-0576-491f-a584-8d2aedde3ad5   \n",
       "4       d5cf24a1-5c48-4bd9-ae66-1179a160b886   \n",
       "...                                      ...   \n",
       "999995  2779d3a6-829f-47b0-b3bb-4e7c752b378d   \n",
       "999996  1349fd03-3caf-47ca-b9a7-af249efd3b11   \n",
       "999997  5d7f090d-fe52-4e3a-8344-147b15777256   \n",
       "999998  f680895c-e017-4361-8f71-7702a6596daf   \n",
       "999999  e6765058-e6a0-4045-9860-02ceca0524b6   \n",
       "\n",
       "                                     user_id event_type     event_timestamp  \\\n",
       "0       58ce0e3e-e1bc-4f3b-8984-8476ecca97bb       view 2024-09-27 13:44:38   \n",
       "1       77409fef-0e58-461f-9b3b-bf7039dbcbd5   purchase 2024-09-27 13:44:41   \n",
       "2       16d4fb74-1dd1-490c-a672-9f227cb42d84       view 2024-09-27 13:44:42   \n",
       "3       203745ff-d27e-41a4-ac82-a42595a4bce1      click 2024-09-27 13:44:43   \n",
       "4       cd6ee66e-f40c-4eba-9197-688a597d62a7      click 2024-09-27 13:44:51   \n",
       "...                                      ...        ...                 ...   \n",
       "999995  75ebccfb-7ec7-4e2c-9daa-8d11b2ef821f   purchase 2025-01-25 13:43:53   \n",
       "999996  aeb8dbcb-8dbe-4c92-af6d-cbc99154e5d1  addToCart 2025-01-25 13:44:00   \n",
       "999997  3360fdab-b88c-4d03-8c9c-af4965960514      click 2025-01-25 13:44:07   \n",
       "999998  c426e6a7-2995-4922-8a91-62487f40b98e      click 2025-01-25 13:44:15   \n",
       "999999  a4ab4690-5ea9-44d9-9e98-eb124b2bf956  addToCart 2025-01-25 13:44:28   \n",
       "\n",
       "                                  product_id  revenue  \n",
       "0       ad656f90-7c58-464a-82a4-f13bfe50c476      0.0  \n",
       "1       9e5862b4-ad98-496a-988d-415366985e9d    220.0  \n",
       "2       9d99c947-5375-4d21-9002-6d1da74fd92e      0.0  \n",
       "3       685c9dd9-83b7-4443-8adb-142e954eb9a5      0.0  \n",
       "4       3b0df028-5e62-4d77-bb53-e742f0262088      0.0  \n",
       "...                                      ...      ...  \n",
       "999995  a7ddbace-5c7c-4d6c-bbc2-e3b5a4234fd6    675.0  \n",
       "999996  ac38643f-042a-4f90-a34e-709305067077      0.0  \n",
       "999997  4b15d508-fa59-4f20-9371-43b81547a6dc      0.0  \n",
       "999998  4c24ca2c-0876-45da-ab68-c679d9806178      0.0  \n",
       "999999  06dc08c0-a7a0-494b-bb04-c99033cc5b26      0.0  \n",
       "\n",
       "[1000000 rows x 6 columns]"
      ]
     },
     "execution_count": 14,
     "metadata": {},
     "output_type": "execute_result"
    }
   ],
   "source": [
    "#Проверяем загружаются ли экспортированные данные в csv обратно в Jupyter Notebook\n",
    "df2 = pd.read_csv(\"/Users/Alena/Desktop/events.csv\", encoding='utf-8', sep=',', parse_dates = ['event_timestamp'], dayfirst = False)\n",
    "df2"
   ]
  },
  {
   "cell_type": "code",
   "execution_count": 18,
   "id": "8073c028-1bc4-46d5-9d99-af9ce73de377",
   "metadata": {},
   "outputs": [
    {
     "data": {
      "text/plain": [
       "event_id                   object\n",
       "user_id                    object\n",
       "event_type                 object\n",
       "event_timestamp    datetime64[ns]\n",
       "product_id                 object\n",
       "revenue                   float64\n",
       "dtype: object"
      ]
     },
     "execution_count": 18,
     "metadata": {},
     "output_type": "execute_result"
    }
   ],
   "source": [
    "#проверяем тип данных датафрейма\n",
    "df2.dtypes"
   ]
  },
  {
   "cell_type": "markdown",
   "id": "b1338d2f-08bf-4290-a571-4ee8a1978958",
   "metadata": {},
   "source": [
    "## Анализ пользовательского поведения\n",
    "\n",
    "Так как моей целью является осуществление анализа данных в ClickHouse, а Python я использую с той целью, чтобы отобразить результаты скриптов, установим модуль pandasql, чтобы иметь возможность использовать синтаксис SQL:\n"
   ]
  },
  {
   "cell_type": "code",
   "execution_count": 25,
   "id": "2a83f5bf-9bcb-46d7-bb02-9d98686eeffc",
   "metadata": {},
   "outputs": [
    {
     "name": "stdout",
     "output_type": "stream",
     "text": [
      "Requirement already satisfied: pandasql in /opt/anaconda3/lib/python3.12/site-packages (0.7.3)\n",
      "Requirement already satisfied: numpy in /opt/anaconda3/lib/python3.12/site-packages (from pandasql) (1.26.4)\n",
      "Requirement already satisfied: pandas in /opt/anaconda3/lib/python3.12/site-packages (from pandasql) (2.2.2)\n",
      "Requirement already satisfied: sqlalchemy in /opt/anaconda3/lib/python3.12/site-packages (from pandasql) (2.0.34)\n",
      "Requirement already satisfied: python-dateutil>=2.8.2 in /opt/anaconda3/lib/python3.12/site-packages (from pandas->pandasql) (2.9.0.post0)\n",
      "Requirement already satisfied: pytz>=2020.1 in /opt/anaconda3/lib/python3.12/site-packages (from pandas->pandasql) (2024.1)\n",
      "Requirement already satisfied: tzdata>=2022.7 in /opt/anaconda3/lib/python3.12/site-packages (from pandas->pandasql) (2023.3)\n",
      "Requirement already satisfied: typing-extensions>=4.6.0 in /opt/anaconda3/lib/python3.12/site-packages (from sqlalchemy->pandasql) (4.11.0)\n",
      "Requirement already satisfied: greenlet!=0.4.17 in /opt/anaconda3/lib/python3.12/site-packages (from sqlalchemy->pandasql) (3.0.1)\n",
      "Requirement already satisfied: six>=1.5 in /opt/anaconda3/lib/python3.12/site-packages (from python-dateutil>=2.8.2->pandas->pandasql) (1.16.0)\n"
     ]
    }
   ],
   "source": [
    "!pip install pandasql"
   ]
  },
  {
   "cell_type": "markdown",
   "id": "10e21f9c-827b-4c1b-a411-f990fe6bc20e",
   "metadata": {},
   "source": [
    "#### Запрос, который извлекает общее количество уникальных пользователей и общее количество событий за последний месяц (текущий месяц):\n"
   ]
  },
  {
   "cell_type": "code",
   "execution_count": 36,
   "id": "4761d485-23b2-4341-ab72-cb8a5d883789",
   "metadata": {},
   "outputs": [
    {
     "name": "stdout",
     "output_type": "stream",
     "text": [
      "   unique_users  total_events\n",
      "0         87316        205292\n"
     ]
    }
   ],
   "source": [
    "from pandasql import sqldf\n",
    "\n",
    "query = \"\"\"\n",
    "SELECT \n",
    "    COUNT(DISTINCT user_id) AS unique_users,\n",
    "    COUNT(DISTINCT event_id) AS total_events\n",
    "FROM df2\n",
    "WHERE event_timestamp >= '2025-01-01' AND event_timestamp < '2025-02-01'\n",
    "\"\"\"\n",
    "\n",
    "result = sqldf(query, locals())\n",
    "print(result)"
   ]
  },
  {
   "cell_type": "markdown",
   "id": "30a3b329-7924-40b8-9fa4-53d610cf12d5",
   "metadata": {},
   "source": [
    "#### Запрос, который показывает распределение типов событий (счетчик для каждого типа события) за последний месяц (текущий месяц):\n"
   ]
  },
  {
   "cell_type": "code",
   "execution_count": 39,
   "id": "97008634-8950-4336-8047-27e4b805f697",
   "metadata": {},
   "outputs": [
    {
     "name": "stdout",
     "output_type": "stream",
     "text": [
      "  event_type  event_count\n",
      "0       view        51364\n",
      "1      click        51359\n",
      "2  addToCart        51300\n",
      "3   purchase        51269\n"
     ]
    }
   ],
   "source": [
    "from pandasql import sqldf\n",
    "\n",
    "query = \"\"\"\n",
    "SELECT\n",
    "   event_type,\n",
    "   COUNT(*) AS event_count\n",
    "FROM df2\n",
    "WHERE event_timestamp >= '2025-01-01' AND event_timestamp < '2025-02-01'\n",
    "GROUP BY event_type\n",
    "ORDER BY event_count DESC\n",
    "\"\"\"\n",
    "\n",
    "# Выполняем SQL-запрос\n",
    "result = sqldf(query, locals())\n",
    "\n",
    "# Выводим результат\n",
    "print(result)\n"
   ]
  },
  {
   "cell_type": "markdown",
   "id": "799c5024-c87f-4c21-9ead-befc777ea997",
   "metadata": {},
   "source": [
    "### Визулизация"
   ]
  },
  {
   "cell_type": "code",
   "execution_count": 42,
   "id": "6ff01507-94fd-4357-ba54-cf1952717e13",
   "metadata": {},
   "outputs": [
    {
     "data": {
      "image/png": "[encoded data removed]",
      "text/plain": [
       "<Figure size 1000x500 with 1 Axes>"
      ]
     },
     "metadata": {},
     "output_type": "display_data"
    }
   ],
   "source": [
    "# Фильтруем события за январь 2025 года\n",
    "df_january = df[(df['event_timestamp'] >= '2025-01-01') & (df['event_timestamp'] < '2025-02-01')]\n",
    "\n",
    "# Группируем по event_type и считаем количество событий\n",
    "event_counts = df_january['event_type'].value_counts()\n",
    "\n",
    "# Визуализация данных\n",
    "plt.figure(figsize=(10, 5))\n",
    "ax = event_counts.plot(kind='bar', color='skyblue')\n",
    "\n",
    "# Добавляем подписи (числа) над столбцами\n",
    "for i, v in enumerate(event_counts):\n",
    "    ax.text(i, v + max(event_counts) * 0.02, str(v), ha='center', fontsize=9, fontweight='bold')\n",
    "\n",
    "plt.xlabel(\"Тип события\")\n",
    "plt.ylabel(\"Количество событий\")\n",
    "plt.title(\"Распределение событий за январь 2025 года\")\n",
    "plt.xticks(rotation=50)\n",
    "plt.grid(axis='y', linestyle='-', alpha=0.7)\n",
    "\n",
    "plt.show()"
   ]
  },
  {
   "cell_type": "markdown",
   "id": "ab5f7f3e-afbf-473c-bfc3-7d9ec48469d9",
   "metadata": {},
   "source": [
    "### Вывод:\n",
    "✅ \"View\" (просмотр) — самое частое событие (51,364 раз), что логично, так как пользователи обычно сначала просматривают товары.\n",
    "\n",
    "✅ \"Click\" (клик) — почти такое же количество (51,359 раз) — это указывает на высокую активность пользователей после просмотра.\n",
    "\n",
    "✅ \"Add to Cart\" (добавление в корзину) — 51,300 раз. Количество таких событий очень близко к просмотрам и кликам, что может свидетельствовать о хорошей конверсии добавления товаров в корзину.\n",
    "\n",
    "✅ \"Purchase\" (покупка) — 51,269 раз, что удивительно близко к числу добавлений в корзину. Это может указывать на очень высокий процент завершенных покупок среди тех, кто добавляет товар в корзину.\n"
   ]
  },
  {
   "cell_type": "markdown",
   "id": "b29c8759-14a8-4f62-9f92-dc9dd6503aa5",
   "metadata": {},
   "source": [
    "## Анализ дохода"
   ]
  },
  {
   "cell_type": "markdown",
   "id": "50acdb44-9cbb-45c9-a769-6891444a4b4e",
   "metadata": {},
   "source": [
    "#### Запрос, который подсчитывает общий доход от покупок (event_type = purchase) за последний месяц, а также выделяет средний доход на пользователя:\n"
   ]
  },
  {
   "cell_type": "code",
   "execution_count": 59,
   "id": "5eb142cb-0e50-4ff3-9647-db52b220a6d1",
   "metadata": {},
   "outputs": [
    {
     "name": "stdout",
     "output_type": "stream",
     "text": [
      "   total_revenue  avg_revenue_per_user\n",
      "0     25978547.0            297.523329\n"
     ]
    }
   ],
   "source": [
    "from pandasql import sqldf\n",
    "\n",
    "query = \"\"\"\n",
    "SELECT\n",
    "   SUM(revenue) AS total_revenue,\n",
    "   SUM(revenue) / COUNT(DISTINCT user_id) AS avg_revenue_per_user\n",
    "FROM df2\n",
    "WHERE event_timestamp >= '2025-01-01'\n",
    "AND event_timestamp < '2025-02-01';\n",
    "\"\"\"\n",
    "\n",
    "# Выполняем SQL-запрос\n",
    "result = sqldf(query, locals())\n",
    "\n",
    "# Выводим результат\n",
    "print(result)\n"
   ]
  },
  {
   "cell_type": "markdown",
   "id": "5933761e-5a78-4aa4-8557-ca162b739707",
   "metadata": {},
   "source": [
    "#### Запрос для определения 5 лучших продуктов по доходу за последний месяц:\n"
   ]
  },
  {
   "cell_type": "code",
   "execution_count": 64,
   "id": "04584c7b-29f1-46d2-9e2c-b4b00746ea31",
   "metadata": {},
   "outputs": [
    {
     "name": "stdout",
     "output_type": "stream",
     "text": [
      "                             product_id  total_revenue\n",
      "0  20e9582e-22a1-4170-b6da-ac279eeaf17c         7704.0\n",
      "1  d5e68ab1-4a73-4c86-9d68-4eabfa12ed5f         7570.0\n",
      "2  e8e6e4dd-1071-4170-81a2-195e9dea6f42         7489.0\n",
      "3  645b7d70-505f-4861-a6f7-e1c3beb9f341         7018.0\n",
      "4  d212b409-7e67-493c-870b-e0c2c6dc41a0         6892.0\n"
     ]
    }
   ],
   "source": [
    "from pandasql import sqldf\n",
    "\n",
    "query = \"\"\"\n",
    "SELECT\n",
    "   product_id,\n",
    "   SUM(revenue) AS total_revenue\n",
    "FROM df2\n",
    "WHERE event_type = 'purchase'\n",
    "AND event_timestamp >= '2025-01-01'\n",
    "AND event_timestamp < '2025-02-01'\n",
    "GROUP BY product_id\n",
    "ORDER BY total_revenue DESC\n",
    "LIMIT 5;\n",
    "\"\"\"\n",
    "\n",
    "# Выполняем SQL-запрос\n",
    "result = sqldf(query, locals())\n",
    "\n",
    "# Выводим результат\n",
    "print(result)\n"
   ]
  },
  {
   "cell_type": "markdown",
   "id": "55113e20-2f2f-41b3-a3d2-0c24400a5af8",
   "metadata": {},
   "source": [
    "## Создание нового представления\n"
   ]
  },
  {
   "cell_type": "markdown",
   "id": "dd128b03-0fbd-4785-9cda-2b499870a7e3",
   "metadata": {},
   "source": [
    "#### Запрос на создание Materialized View, который будет хранить агрегированные данные по дням: общее количество событий и общий доход от покупок.\n",
    "\n",
    "ВАЖНО! В Python нет прямого аналога MATERIALIZED VIEW или SummingMergeTree (это специфично для ClickHouse), поэтому прикрепляю просто скрипт без вывода результата:\n"
   ]
  },
  {
   "cell_type": "markdown",
   "id": "8fa376c6-9557-499f-8e04-618bf7a3830a",
   "metadata": {},
   "source": [
    "```\n",
    "CREATE MATERIALIZED VIEW mv_daily_stats\n",
    "ENGINE = SummingMergeTree()\n",
    "ORDER BY event_date\n",
    "AS \n",
    "SELECT\n",
    "   toDate(event_timestamp) AS event_date,\n",
    "   COUNT() AS total_events,\n",
    "   SUMIf(revenue, event_type = 'purchase') AS total_revenue\n",
    "FROM events\n",
    "GROUP BY event_date;\n",
    "\n",
    "INSERT INTO mv_daily_stats\n",
    "SELECT\n",
    "   toDate(event_timestamp) AS event_date,\n",
    "   COUNT() AS total_events,\n",
    "   SUMIf(revenue, event_type = 'purchase') AS total_revenue\n",
    "FROM events\n",
    "GROUP BY event_date;\n",
    "```\n",
    "\n"
   ]
  },
  {
   "cell_type": "markdown",
   "id": "e1cb26e5-b6d8-4d0f-9581-88e88b3c84a3",
   "metadata": {},
   "source": [
    "## Оптимизация запросов "
   ]
  },
  {
   "cell_type": "markdown",
   "id": "e917c2f8-6b65-4f4c-92b3-c27c39a0e59f",
   "metadata": {},
   "source": [
    "#### Описание оптимизаций, которые можно применить к запросам, чтобы улучшить их производительность на случай, если данных станет больше (1 млрд строк).\n"
   ]
  },
  {
   "cell_type": "markdown",
   "id": "1565bca9-4bd5-480a-9cf3-a4feabfb49ba",
   "metadata": {},
   "source": [
    "Для работы с большими объемами данных, такими как 1 миллиард строк, можно применить следующие оптимизации для улучшения производительности ваших запросов:\n",
    "\n",
    "#### *1. Создание дополнительных индексов (вторичных индексов) для ускорения фильтрации по event_timestamp*\n",
    "В запросах активно используется фильтрация по event_timestamp (WHERE event_timestamp >= '2025-01-01' AND event_timestamp < '2025-02-01'). Однако в ClickHouse основной индекс (порядок сортировки ORDER BY event_timestamp в MergeTree) не всегда будет достаточно эффективным при увеличении данных до 1 млрд строк.\n",
    "\n",
    "**Решение:**\n",
    "\n",
    "Добавление гранулированного индекса (secondary index), например, используя ***SET index_granularity = 8192*** при создании таблицы или добавление индекса:\n",
    "\n",
    "ALTER TABLE events ADD INDEX idx_event_timestamp event_timestamp TYPE minmax GRANULARITY 4;\n",
    "\n",
    "Такой индекс позволит ClickHouse быстрее находить нужные временные интервалы, а не сканировать весь датасет.\n",
    "\n",
    "#### Партиционирование таблицы по дате\n",
    "\n",
    "Сейчас таблица events хранит все данные без разбиения на секции, что делает запросы с фильтрацией по event_timestamp менее эффективными.\n",
    "\n",
    "**Решение:**\n",
    "\n",
    "Использовать партиционирование по дате (toYYYYMM(event_timestamp)), чтобы ClickHouse мог быстро отбрасывать ненужные партиции при выполнении запроса:\n"
   ]
  },
  {
   "cell_type": "markdown",
   "id": "b3a32cd9-b0b1-40ad-8ce6-8720a29d1a0b",
   "metadata": {},
   "source": [
    "```\n",
    "CREATE TABLE events (\n",
    "   event_id UUID,\n",
    "   user_id UUID,\n",
    "   event_type String,\n",
    "   event_timestamp DateTime,\n",
    "   product_id UUID,\n",
    "   revenue Float32\n",
    ") ENGINE = MergeTree()\n",
    "PARTITION BY toYYYYMM(event_timestamp)  -- Разбиение по месяцам\n",
    "ORDER BY (event_timestamp, user_id);\n",
    "```"
   ]
  },
  {
   "cell_type": "markdown",
   "id": "ba958b7b-1a09-4245-960b-678d48c0e2f7",
   "metadata": {},
   "source": [
    "**Преимущества:**\n",
    "\n",
    "✅ Ускоряет запросы с WHERE event_timestamp >= ..., так как ClickHouse будет обрабатывать только нужные партиции, а не всю таблицу.\n",
    "\n",
    "✅ Уменьшает нагрузку на диск и оперативную память.\n",
    "\n",
    "✅ Позволяет легко удалять старые данные (например, ALTER TABLE events DROP PARTITION '202401').\n",
    "\n",
    "Вместо того чтобы просто увеличивать мощности, были выбраны структурные оптимизации, которые позволяют ClickHouse мгновенно обрабатывать миллиарды строк."
   ]
  },
  {
   "cell_type": "markdown",
   "id": "477370cc-d0f1-4c42-a0ed-15e05aa1babf",
   "metadata": {},
   "source": [
    "## Вывод\n",
    "\n",
    "В рамках проекта была создана и проанализирована таблица событий пользователей в ClickHouse. Проведены вычисления ключевых метрик, таких как количество пользователей, распределение событий и доход. Также рассмотрены способы оптимизации запросов для работы с большими объемами данных."
   ]
  },
  {
   "cell_type": "code",
   "execution_count": null,
   "id": "ef514977-72d4-49b2-899e-5a122b71c5cd",
   "metadata": {},
   "outputs": [],
   "source": []
  }
 ],
 "metadata": {
  "kernelspec": {
   "display_name": "Python [conda env:base] *",
   "language": "python",
   "name": "conda-base-py"
  },
  "language_info": {
   "codemirror_mode": {
    "name": "ipython",
    "version": 3
   },
   "file_extension": ".py",
   "mimetype": "text/x-python",
   "name": "python",
   "nbconvert_exporter": "python",
   "pygments_lexer": "ipython3",
   "version": "3.12.7"
  }
 },
 "nbformat": 4,
 "nbformat_minor": 5
}
